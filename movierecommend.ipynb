{
 "cells": [
  {
   "cell_type": "code",
   "execution_count": 1,
   "id": "1a2ff2d1-ce63-47ee-9dd0-028defa9defb",
   "metadata": {},
   "outputs": [],
   "source": [
    "import numpy as np\n",
    "import pandas as pd\n",
    "import difflib\n",
    "from sklearn.feature_extraction.text import TfidfVectorizer\n",
    "from sklearn.metrics.pairwise import cosine_similarity"
   ]
  },
  {
   "cell_type": "code",
   "execution_count": 2,
   "id": "0e7ea9f6-01b1-439d-bace-87d3a82214af",
   "metadata": {},
   "outputs": [],
   "source": [
    "mr_df = pd.read_csv(\"movies.csv\")"
   ]
  },
  {
   "cell_type": "code",
   "execution_count": 3,
   "id": "82dadf6b-794b-4a70-89cd-4246c1ebacbc",
   "metadata": {},
   "outputs": [
    {
     "name": "stdout",
     "output_type": "stream",
     "text": [
      "['genres', 'keywords', 'tagline', 'cast', 'director']\n"
     ]
    }
   ],
   "source": [
    "selected_feature = [\"genres\",\"keywords\",\"tagline\",\"cast\",\"director\"]\n",
    "print(selected_feature)"
   ]
  },
  {
   "cell_type": "code",
   "execution_count": 4,
   "id": "f3fad300-efca-4172-bb50-4c1a3bbb259a",
   "metadata": {},
   "outputs": [],
   "source": [
    "for f in selected_feature:\n",
    "  mr_df[f] = mr_df[f].fillna(\"\")"
   ]
  },
  {
   "cell_type": "code",
   "execution_count": 5,
   "id": "697e0946-df8d-4e44-a454-bb4f5930c365",
   "metadata": {},
   "outputs": [
    {
     "name": "stdout",
     "output_type": "stream",
     "text": [
      "0       Action Adventure Fantasy Science Fiction cultu...\n",
      "1       Adventure Fantasy Action ocean drug abuse exot...\n",
      "2       Action Adventure Crime spy based on novel secr...\n",
      "3       Action Crime Drama Thriller dc comics crime fi...\n",
      "4       Action Adventure Science Fiction based on nove...\n",
      "                              ...                        \n",
      "4798    Action Crime Thriller united states\\u2013mexic...\n",
      "4799    Comedy Romance  A newlywed couple's honeymoon ...\n",
      "4800    Comedy Drama Romance TV Movie date love at fir...\n",
      "4801      A New Yorker in Shanghai Daniel Henney Eliza...\n",
      "4802    Documentary obsession camcorder crush dream gi...\n",
      "Length: 4803, dtype: object\n"
     ]
    }
   ],
   "source": [
    "combined_feature = mr_df[\"genres\"]+' '+mr_df[\"keywords\"]+' '+mr_df[\"tagline\"]+' '+mr_df[\"cast\"]+mr_df[\"director\"]\n",
    "print(combined_feature)"
   ]
  },
  {
   "cell_type": "code",
   "execution_count": 6,
   "id": "c9ce8eb4-469e-4174-9303-75b1994bbf82",
   "metadata": {},
   "outputs": [],
   "source": [
    "vector = TfidfVectorizer()"
   ]
  },
  {
   "cell_type": "code",
   "execution_count": 7,
   "id": "c4390528-ac3b-46f2-87bd-69d2e5d492ca",
   "metadata": {},
   "outputs": [
    {
     "name": "stdout",
     "output_type": "stream",
     "text": [
      "  (0, 208)\t0.07667385108184376\n",
      "  (0, 289)\t0.08800104830707552\n",
      "  (0, 6241)\t0.1083630860656862\n",
      "  (0, 16345)\t0.10110130418423781\n",
      "  (0, 6437)\t0.10110130418423781\n",
      "  (0, 4357)\t0.2086788913449303\n",
      "  (0, 3615)\t0.21664083919579374\n",
      "  (0, 6923)\t0.1606391519765174\n",
      "  (0, 17262)\t0.33130376319063676\n",
      "  (0, 19787)\t0.12241864673585882\n",
      "  (0, 3806)\t0.24348426965339803\n",
      "  (0, 17147)\t0.2086788913449303\n",
      "  (0, 5865)\t0.23437015044361997\n",
      "  (0, 18275)\t0.06921925370543773\n",
      "  (0, 20389)\t0.12507033381973537\n",
      "  (0, 13517)\t0.08827534630310274\n",
      "  (0, 13860)\t0.26544401841252097\n",
      "  (0, 16062)\t0.15564527461690644\n",
      "  (0, 20398)\t0.23860058795491665\n",
      "  (0, 20721)\t0.19702892145320783\n",
      "  (0, 16029)\t0.21898867021233073\n",
      "  (0, 16879)\t0.20091311266965015\n",
      "  (0, 19900)\t0.19827148152003798\n",
      "  (0, 17532)\t0.16181995525842374\n",
      "  (0, 10559)\t0.22730069036139045\n",
      "  :\t:\n",
      "  (4801, 423)\t0.19056341009568284\n",
      "  (4801, 5734)\t0.2563183496274323\n",
      "  (4801, 20694)\t0.29933113097807007\n",
      "  (4801, 16621)\t0.28905348514055085\n",
      "  (4801, 20559)\t0.3138166592040448\n",
      "  (4801, 4145)\t0.3138166592040448\n",
      "  (4801, 15864)\t0.3138166592040448\n",
      "  (4801, 16765)\t0.3138166592040448\n",
      "  (4801, 8776)\t0.3138166592040448\n",
      "  (4802, 13485)\t0.1812883618371389\n",
      "  (4802, 5347)\t0.17030049967383565\n",
      "  (4802, 2454)\t0.1755983510178846\n",
      "  (4802, 5908)\t0.1712024779337688\n",
      "  (4802, 7301)\t0.18320658286238686\n",
      "  (4802, 4057)\t0.22511280012954266\n",
      "  (4802, 5357)\t0.19894359173578305\n",
      "  (4802, 1488)\t0.20002303752562678\n",
      "  (4802, 15620)\t0.17612508460823412\n",
      "  (4802, 5167)\t0.15607460606564647\n",
      "  (4802, 2856)\t0.24353543417297582\n",
      "  (4802, 7663)\t0.23018746318092126\n",
      "  (4802, 4323)\t0.26635394130052475\n",
      "  (4802, 6353)\t0.23965799931641568\n",
      "  (4802, 8414)\t0.5783448968561475\n",
      "  (4802, 5463)\t0.28917244842807377\n"
     ]
    }
   ],
   "source": [
    "feature_vector = vector.fit_transform(combined_feature)\n",
    "print(feature_vector)"
   ]
  },
  {
   "cell_type": "code",
   "execution_count": 8,
   "id": "8be7e15e-7cb5-4049-80dd-eb32f05ea258",
   "metadata": {},
   "outputs": [],
   "source": [
    "similarity = cosine_similarity(feature_vector)"
   ]
  },
  {
   "cell_type": "code",
   "execution_count": 9,
   "id": "ab443236-66de-4f32-874c-d5c7c81494b7",
   "metadata": {},
   "outputs": [
    {
     "name": "stdout",
     "output_type": "stream",
     "text": [
      "(4803, 4803)\n"
     ]
    }
   ],
   "source": [
    "print(similarity.shape)"
   ]
  },
  {
   "cell_type": "code",
   "execution_count": 10,
   "id": "74b13bfc-7270-40be-b98c-fe1f538bfd32",
   "metadata": {},
   "outputs": [
    {
     "name": "stdout",
     "output_type": "stream",
     "text": [
      "Enter The Movie Name  iron man\n"
     ]
    },
    {
     "name": "stdout",
     "output_type": "stream",
     "text": [
      "movie suggested for you /n\n",
      "1 . Iron Man\n",
      "2 . Iron Man 2\n",
      "3 . Iron Man 3\n",
      "4 . Avengers: Age of Ultron\n",
      "5 . The Avengers\n",
      "6 . Captain America: Civil War\n",
      "7 . Captain America: The Winter Soldier\n",
      "8 . Ant-Man\n",
      "9 . X-Men\n",
      "10 . X-Men: Apocalypse\n",
      "11 . X2\n",
      "12 . The Incredible Hulk\n",
      "13 . The Helix... Loaded\n",
      "14 . X-Men: Days of Future Past\n",
      "15 . X-Men: First Class\n",
      "16 . Captain America: The First Avenger\n",
      "17 . Deadpool\n",
      "18 . Guardians of the Galaxy\n",
      "19 . Thor: The Dark World\n"
     ]
    }
   ],
   "source": [
    "movie_name = input(\"Enter The Movie Name \")\n",
    "list_of_movies = mr_df[\"title\"].tolist()\n",
    "find_close_match = difflib.get_close_matches(movie_name,list_of_movies)\n",
    "close_match = find_close_match[0]\n",
    "title_with_index = mr_df[mr_df.title == close_match][\"index\"].values[0]\n",
    "similarity_score = list(enumerate(similarity[title_with_index]))\n",
    "sort_similar_movie = sorted(similarity_score,key=lambda x:x[1],reverse=True)\n",
    "print(\"movie suggested for you /n\")\n",
    "i=1\n",
    "for movie in sort_similar_movie:\n",
    "  index = movie[0]\n",
    "  title_from_index = mr_df[mr_df.index == index]['title'].values[0]\n",
    "  if(i<20):\n",
    "    print(i,'.',title_from_index)\n",
    "    i+=1"
   ]
  },
  {
   "cell_type": "code",
   "execution_count": 11,
   "id": "2b11b252-fd18-4e2c-b635-2c4d31334ec3",
   "metadata": {},
   "outputs": [],
   "source": [
    "import pickle\n",
    "\n",
    "# Save\n",
    "pickle.dump(similarity, open('similarity.pkl', 'wb'))\n",
    "mr_df.to_pickle('movies.pkl')\n"
   ]
  },
  {
   "cell_type": "code",
   "execution_count": null,
   "id": "42e63113-1ff9-484c-aada-37b966ed426f",
   "metadata": {},
   "outputs": [],
   "source": []
  }
 ],
 "metadata": {
  "kernelspec": {
   "display_name": "Python 3 (ipykernel)",
   "language": "python",
   "name": "python3"
  },
  "language_info": {
   "codemirror_mode": {
    "name": "ipython",
    "version": 3
   },
   "file_extension": ".py",
   "mimetype": "text/x-python",
   "name": "python",
   "nbconvert_exporter": "python",
   "pygments_lexer": "ipython3",
   "version": "3.12.3"
  }
 },
 "nbformat": 4,
 "nbformat_minor": 5
}
